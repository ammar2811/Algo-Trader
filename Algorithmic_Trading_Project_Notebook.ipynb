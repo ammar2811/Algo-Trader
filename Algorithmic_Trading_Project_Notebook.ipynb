{
 "cells": [
  {
   "cell_type": "markdown",
   "id": "3c79dfc2",
   "metadata": {},
   "source": [
    "# Algorithmic Trading Strategy Demo\n",
    "This notebook demonstrates a simple algorithmic trading system with enhancements:\n",
    "1. Transaction costs\n",
    "2. Risk metrics (Sharpe ratio, max drawdown)\n",
    "3. Parameter tuning for SMA crossovers\n",
    "4. Multi-asset portfolio backtesting\n",
    "5. Alternative strategies (momentum, mean reversion)\n",
    "6. Visualization with trading signals\n",
    "\n",
    "---\n",
    "\n",
    "## Step 1: Imports and Data"
   ]
  },
  {
   "cell_type": "code",
   "execution_count": null,
   "id": "380c56b8",
   "metadata": {},
   "outputs": [],
   "source": [
    "import yfinance as yf\n",
    "import pandas as pd\n",
    "import numpy as np\n",
    "import matplotlib.pyplot as plt\n",
    "\n",
    "plt.style.use(\"seaborn-v0_8\")\n",
    "\n",
    "# Download 2 years of Apple stock data\n",
    "data = yf.download(\"AAPL\", start=\"2023-01-01\", end=\"2025-01-01\")\n",
    "\n",
    "# Calculate moving averages\n",
    "data[\"SMA50\"] = data[\"Close\"].rolling(window=50).mean()\n",
    "data[\"SMA200\"] = data[\"Close\"].rolling(window=200).mean()\n",
    "\n",
    "# Generate signals\n",
    "data[\"Signal\"] = (data[\"SMA50\"] > data[\"SMA200\"]).astype(int)\n",
    "data[\"Position\"] = data[\"Signal\"].diff()\n",
    "data.head()"
   ]
  },
  {
   "cell_type": "markdown",
   "id": "20af6168",
   "metadata": {},
   "source": [
    "---\n",
    "\n",
    "## Step 2: Add Transaction Costs"
   ]
  },
  {
   "cell_type": "code",
   "execution_count": null,
   "id": "2788caa5",
   "metadata": {},
   "outputs": [],
   "source": [
    "transaction_cost = 0.001  # 0.1% per trade\n",
    "\n",
    "data[\"Returns\"] = data[\"Close\"].pct_change()\n",
    "data[\"Strategy_Returns\"] = data[\"Signal\"].shift(1) * data[\"Returns\"]\n",
    "\n",
    "# Subtract cost when a trade happens\n",
    "data.loc[data[\"Position\"] != 0, \"Strategy_Returns\"] -= transaction_cost"
   ]
  },
  {
   "cell_type": "markdown",
   "id": "092cff2c",
   "metadata": {},
   "source": [
    "---\n",
    "\n",
    "## Step 3: Risk Metrics"
   ]
  },
  {
   "cell_type": "code",
   "execution_count": null,
   "id": "3a6cf568",
   "metadata": {},
   "outputs": [],
   "source": [
    "# Sharpe ratio\n",
    "sharpe = (data[\"Strategy_Returns\"].mean() / data[\"Strategy_Returns\"].std()) * np.sqrt(252)\n",
    "\n",
    "# Max drawdown\n",
    "cumulative = (1 + data[\"Strategy_Returns\"]).cumprod()\n",
    "rolling_max = cumulative.cummax()\n",
    "drawdown = (cumulative - rolling_max) / rolling_max\n",
    "max_drawdown = drawdown.min()\n",
    "\n",
    "print(\"Sharpe Ratio:\", sharpe)\n",
    "print(\"Max Drawdown:\", max_drawdown)"
   ]
  },
  {
   "cell_type": "markdown",
   "id": "aae06fef",
   "metadata": {},
   "source": [
    "---\n",
    "\n",
    "## Step 4: Parameter Tuning"
   ]
  },
  {
   "cell_type": "code",
   "execution_count": null,
   "id": "3c265b1c",
   "metadata": {},
   "outputs": [],
   "source": [
    "def backtest_sma(short, long, ticker=\"AAPL\"):\n",
    "    df = yf.download(ticker, start=\"2023-01-01\", end=\"2025-01-01\")\n",
    "    df[f\"SMA{short}\"] = df[\"Close\"].rolling(short).mean()\n",
    "    df[f\"SMA{long}\"] = df[\"Close\"].rolling(long).mean()\n",
    "    df[\"Signal\"] = (df[f\"SMA{short}\"] > df[f\"SMA{long}\"]).astype(int)\n",
    "    df[\"Returns\"] = df[\"Close\"].pct_change()\n",
    "    df[\"Strategy_Returns\"] = df[\"Signal\"].shift(1) * df[\"Returns\"]\n",
    "    return (1 + df[\"Strategy_Returns\"]).cumprod()[-1]\n",
    "\n",
    "results = {}\n",
    "for s in [20, 50, 100]:\n",
    "    for l in [100, 150, 200]:\n",
    "        if s < l:\n",
    "            results[(s, l)] = backtest_sma(s, l)\n",
    "\n",
    "print(\"Best parameters:\", max(results, key=results.get))"
   ]
  },
  {
   "cell_type": "markdown",
   "id": "1dc81f35",
   "metadata": {},
   "source": [
    "---\n",
    "\n",
    "## Step 5: Multi-Asset Portfolio"
   ]
  },
  {
   "cell_type": "code",
   "execution_count": null,
   "id": "55ad55e8",
   "metadata": {},
   "outputs": [],
   "source": [
    "tickers = [\"AAPL\", \"TSLA\", \"MSFT\", \"AMZN\"]\n",
    "portfolio = []\n",
    "\n",
    "for ticker in tickers:\n",
    "    df = yf.download(ticker, start=\"2023-01-01\", end=\"2025-01-01\")\n",
    "    df[\"SMA50\"] = df[\"Close\"].rolling(50).mean()\n",
    "    df[\"SMA200\"] = df[\"Close\"].rolling(200).mean()\n",
    "    df[\"Signal\"] = (df[\"SMA50\"] > df[\"SMA200\"]).astype(int)\n",
    "    df[\"Returns\"] = df[\"Close\"].pct_change()\n",
    "    df[\"Strategy_Returns\"] = df[\"Signal\"].shift(1) * df[\"Returns\"]\n",
    "    portfolio.append(df[\"Strategy_Returns\"])\n",
    "\n",
    "portfolio_returns = pd.concat(portfolio, axis=1).mean(axis=1)\n",
    "cumulative_portfolio = (1 + portfolio_returns).cumprod()\n",
    "\n",
    "cumulative_portfolio.plot(title=\"Portfolio Performance\", figsize=(10,5))\n",
    "plt.show()"
   ]
  },
  {
   "cell_type": "markdown",
   "id": "48e70591",
   "metadata": {},
   "source": [
    "---\n",
    "\n",
    "## Step 6: Alternative Strategies"
   ]
  },
  {
   "cell_type": "code",
   "execution_count": null,
   "id": "3f10e7a3",
   "metadata": {},
   "outputs": [],
   "source": [
    "# Momentum (10-day returns positive)\n",
    "data[\"Momentum_Signal\"] = (data[\"Close\"].pct_change(10) > 0).astype(int)\n",
    "\n",
    "# Mean reversion (Buy when price < SMA50)\n",
    "data[\"MeanRev_Signal\"] = (data[\"Close\"] < data[\"SMA50\"]).astype(int)"
   ]
  },
  {
   "cell_type": "markdown",
   "id": "f1b93641",
   "metadata": {},
   "source": [
    "---\n",
    "\n",
    "## Step 7: Visualization with Trading Signals"
   ]
  },
  {
   "cell_type": "code",
   "execution_count": null,
   "id": "ea3e3db2",
   "metadata": {},
   "outputs": [],
   "source": [
    "plt.figure(figsize=(12,6))\n",
    "plt.plot(data[\"Close\"], label=\"Stock Price\", alpha=0.5)\n",
    "plt.plot(data[\"SMA50\"], label=\"SMA50\")\n",
    "plt.plot(data[\"SMA200\"], label=\"SMA200\")\n",
    "\n",
    "plt.scatter(data.index[data[\"Position\"] == 1], \n",
    "            data[\"Close\"][data[\"Position\"] == 1], \n",
    "            marker=\"^\", color=\"green\", label=\"Buy\")\n",
    "plt.scatter(data.index[data[\"Position\"] == -1], \n",
    "            data[\"Close\"][data[\"Position\"] == -1], \n",
    "            marker=\"v\", color=\"red\", label=\"Sell\")\n",
    "\n",
    "plt.title(\"Trading Signals with SMA Crossover\")\n",
    "plt.legend()\n",
    "plt.show()"
   ]
  }
 ],
 "metadata": {
  "jupytext": {
   "cell_metadata_filter": "-all",
   "main_language": "python",
   "notebook_metadata_filter": "-all"
  }
 },
 "nbformat": 4,
 "nbformat_minor": 5
}
